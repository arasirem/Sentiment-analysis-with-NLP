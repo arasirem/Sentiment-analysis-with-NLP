{
  "cells": [
    {
      "cell_type": "markdown",
      "metadata": {
        "id": "view-in-github",
        "colab_type": "text"
      },
      "source": [
        "<a href=\"https://colab.research.google.com/github/arasirem/Sentiment-analysis-with-NLP/blob/main/NLP_ile_duygu_analizi.ipynb\" target=\"_parent\"><img src=\"https://colab.research.google.com/assets/colab-badge.svg\" alt=\"Open In Colab\"/></a>"
      ]
    },
    {
      "cell_type": "code",
      "execution_count": null,
      "metadata": {
        "id": "h6JOU1rmQBsB",
        "colab": {
          "base_uri": "https://localhost:8080/"
        },
        "outputId": "94ecc344-ad51-4ff0-f756-25304f2293e5"
      },
      "outputs": [
        {
          "output_type": "stream",
          "name": "stderr",
          "text": [
            "[nltk_data] Downloading package stopwords to /root/nltk_data...\n",
            "[nltk_data]   Unzipping corpora/stopwords.zip.\n"
          ]
        },
        {
          "output_type": "execute_result",
          "data": {
            "text/plain": [
              "True"
            ]
          },
          "metadata": {},
          "execution_count": 1
        }
      ],
      "source": [
        "import pandas as pd\n",
        "import numpy as np\n",
        "import matplotlib.pyplot as plt\n",
        "from bs4 import BeautifulSoup\n",
        "import re\n",
        "from sklearn.feature_extraction.text import CountVectorizer\n",
        "from sklearn.metrics import roc_auc_score\n",
        "import nltk\n",
        "from nltk.corpus import stopwords\n",
        "from sklearn.model_selection import train_test_split\n",
        "from sklearn.ensemble import RandomForestClassifier\n",
        "\n",
        "nltk.download(\"stopwords\")\n"
      ]
    },
    {
      "cell_type": "code",
      "execution_count": null,
      "metadata": {
        "id": "z51VUoJBRZmi",
        "colab": {
          "base_uri": "https://localhost:8080/",
          "height": 424
        },
        "outputId": "9254650d-d2ee-48b4-9c3b-3d1e89bb23cf"
      },
      "outputs": [
        {
          "output_type": "execute_result",
          "data": {
            "text/plain": [
              "            id  sentiment                                             review\n",
              "0     \"5814_8\"          1  \"With all this stuff going down at the moment ...\n",
              "1     \"2381_9\"          1  \"\\\"The Classic War of the Worlds\\\" by Timothy ...\n",
              "2     \"7759_3\"          0  \"The film starts with a manager (Nicholas Bell...\n",
              "3     \"3630_4\"          0  \"It must be assumed that those who praised thi...\n",
              "4     \"9495_8\"          1  \"Superbly trashy and wondrously unpretentious ...\n",
              "..         ...        ...                                                ...\n",
              "787  \"2158_10\"          1  \"I don't like \\\"grade inflation\\\" but I just h...\n",
              "788  \"4035_10\"          1  \"In a word...amazing.<br /><br />I initially w...\n",
              "789   \"7563_1\"          0  \"Unfortunately, this movie does no credit what...\n",
              "790   \"6280_7\"          1  \"If you like cars you will love this film!<br ...\n",
              "791   \"6676_9\"          1  \"******WARNING: MAY CONTAIN SPOILERS**********...\n",
              "\n",
              "[792 rows x 3 columns]"
            ],
            "text/html": [
              "\n",
              "  <div id=\"df-638a1072-2986-4228-8f82-df10d483b90d\" class=\"colab-df-container\">\n",
              "    <div>\n",
              "<style scoped>\n",
              "    .dataframe tbody tr th:only-of-type {\n",
              "        vertical-align: middle;\n",
              "    }\n",
              "\n",
              "    .dataframe tbody tr th {\n",
              "        vertical-align: top;\n",
              "    }\n",
              "\n",
              "    .dataframe thead th {\n",
              "        text-align: right;\n",
              "    }\n",
              "</style>\n",
              "<table border=\"1\" class=\"dataframe\">\n",
              "  <thead>\n",
              "    <tr style=\"text-align: right;\">\n",
              "      <th></th>\n",
              "      <th>id</th>\n",
              "      <th>sentiment</th>\n",
              "      <th>review</th>\n",
              "    </tr>\n",
              "  </thead>\n",
              "  <tbody>\n",
              "    <tr>\n",
              "      <th>0</th>\n",
              "      <td>\"5814_8\"</td>\n",
              "      <td>1</td>\n",
              "      <td>\"With all this stuff going down at the moment ...</td>\n",
              "    </tr>\n",
              "    <tr>\n",
              "      <th>1</th>\n",
              "      <td>\"2381_9\"</td>\n",
              "      <td>1</td>\n",
              "      <td>\"\\\"The Classic War of the Worlds\\\" by Timothy ...</td>\n",
              "    </tr>\n",
              "    <tr>\n",
              "      <th>2</th>\n",
              "      <td>\"7759_3\"</td>\n",
              "      <td>0</td>\n",
              "      <td>\"The film starts with a manager (Nicholas Bell...</td>\n",
              "    </tr>\n",
              "    <tr>\n",
              "      <th>3</th>\n",
              "      <td>\"3630_4\"</td>\n",
              "      <td>0</td>\n",
              "      <td>\"It must be assumed that those who praised thi...</td>\n",
              "    </tr>\n",
              "    <tr>\n",
              "      <th>4</th>\n",
              "      <td>\"9495_8\"</td>\n",
              "      <td>1</td>\n",
              "      <td>\"Superbly trashy and wondrously unpretentious ...</td>\n",
              "    </tr>\n",
              "    <tr>\n",
              "      <th>...</th>\n",
              "      <td>...</td>\n",
              "      <td>...</td>\n",
              "      <td>...</td>\n",
              "    </tr>\n",
              "    <tr>\n",
              "      <th>787</th>\n",
              "      <td>\"2158_10\"</td>\n",
              "      <td>1</td>\n",
              "      <td>\"I don't like \\\"grade inflation\\\" but I just h...</td>\n",
              "    </tr>\n",
              "    <tr>\n",
              "      <th>788</th>\n",
              "      <td>\"4035_10\"</td>\n",
              "      <td>1</td>\n",
              "      <td>\"In a word...amazing.&lt;br /&gt;&lt;br /&gt;I initially w...</td>\n",
              "    </tr>\n",
              "    <tr>\n",
              "      <th>789</th>\n",
              "      <td>\"7563_1\"</td>\n",
              "      <td>0</td>\n",
              "      <td>\"Unfortunately, this movie does no credit what...</td>\n",
              "    </tr>\n",
              "    <tr>\n",
              "      <th>790</th>\n",
              "      <td>\"6280_7\"</td>\n",
              "      <td>1</td>\n",
              "      <td>\"If you like cars you will love this film!&lt;br ...</td>\n",
              "    </tr>\n",
              "    <tr>\n",
              "      <th>791</th>\n",
              "      <td>\"6676_9\"</td>\n",
              "      <td>1</td>\n",
              "      <td>\"******WARNING: MAY CONTAIN SPOILERS**********...</td>\n",
              "    </tr>\n",
              "  </tbody>\n",
              "</table>\n",
              "<p>792 rows × 3 columns</p>\n",
              "</div>\n",
              "    <div class=\"colab-df-buttons\">\n",
              "\n",
              "  <div class=\"colab-df-container\">\n",
              "    <button class=\"colab-df-convert\" onclick=\"convertToInteractive('df-638a1072-2986-4228-8f82-df10d483b90d')\"\n",
              "            title=\"Convert this dataframe to an interactive table.\"\n",
              "            style=\"display:none;\">\n",
              "\n",
              "  <svg xmlns=\"http://www.w3.org/2000/svg\" height=\"24px\" viewBox=\"0 -960 960 960\">\n",
              "    <path d=\"M120-120v-720h720v720H120Zm60-500h600v-160H180v160Zm220 220h160v-160H400v160Zm0 220h160v-160H400v160ZM180-400h160v-160H180v160Zm440 0h160v-160H620v160ZM180-180h160v-160H180v160Zm440 0h160v-160H620v160Z\"/>\n",
              "  </svg>\n",
              "    </button>\n",
              "\n",
              "  <style>\n",
              "    .colab-df-container {\n",
              "      display:flex;\n",
              "      gap: 12px;\n",
              "    }\n",
              "\n",
              "    .colab-df-convert {\n",
              "      background-color: #E8F0FE;\n",
              "      border: none;\n",
              "      border-radius: 50%;\n",
              "      cursor: pointer;\n",
              "      display: none;\n",
              "      fill: #1967D2;\n",
              "      height: 32px;\n",
              "      padding: 0 0 0 0;\n",
              "      width: 32px;\n",
              "    }\n",
              "\n",
              "    .colab-df-convert:hover {\n",
              "      background-color: #E2EBFA;\n",
              "      box-shadow: 0px 1px 2px rgba(60, 64, 67, 0.3), 0px 1px 3px 1px rgba(60, 64, 67, 0.15);\n",
              "      fill: #174EA6;\n",
              "    }\n",
              "\n",
              "    .colab-df-buttons div {\n",
              "      margin-bottom: 4px;\n",
              "    }\n",
              "\n",
              "    [theme=dark] .colab-df-convert {\n",
              "      background-color: #3B4455;\n",
              "      fill: #D2E3FC;\n",
              "    }\n",
              "\n",
              "    [theme=dark] .colab-df-convert:hover {\n",
              "      background-color: #434B5C;\n",
              "      box-shadow: 0px 1px 3px 1px rgba(0, 0, 0, 0.15);\n",
              "      filter: drop-shadow(0px 1px 2px rgba(0, 0, 0, 0.3));\n",
              "      fill: #FFFFFF;\n",
              "    }\n",
              "  </style>\n",
              "\n",
              "    <script>\n",
              "      const buttonEl =\n",
              "        document.querySelector('#df-638a1072-2986-4228-8f82-df10d483b90d button.colab-df-convert');\n",
              "      buttonEl.style.display =\n",
              "        google.colab.kernel.accessAllowed ? 'block' : 'none';\n",
              "\n",
              "      async function convertToInteractive(key) {\n",
              "        const element = document.querySelector('#df-638a1072-2986-4228-8f82-df10d483b90d');\n",
              "        const dataTable =\n",
              "          await google.colab.kernel.invokeFunction('convertToInteractive',\n",
              "                                                    [key], {});\n",
              "        if (!dataTable) return;\n",
              "\n",
              "        const docLinkHtml = 'Like what you see? Visit the ' +\n",
              "          '<a target=\"_blank\" href=https://colab.research.google.com/notebooks/data_table.ipynb>data table notebook</a>'\n",
              "          + ' to learn more about interactive tables.';\n",
              "        element.innerHTML = '';\n",
              "        dataTable['output_type'] = 'display_data';\n",
              "        await google.colab.output.renderOutput(dataTable, element);\n",
              "        const docLink = document.createElement('div');\n",
              "        docLink.innerHTML = docLinkHtml;\n",
              "        element.appendChild(docLink);\n",
              "      }\n",
              "    </script>\n",
              "  </div>\n",
              "\n",
              "\n",
              "<div id=\"df-0272bbcf-87cd-43b4-b567-82ef8c19436e\">\n",
              "  <button class=\"colab-df-quickchart\" onclick=\"quickchart('df-0272bbcf-87cd-43b4-b567-82ef8c19436e')\"\n",
              "            title=\"Suggest charts\"\n",
              "            style=\"display:none;\">\n",
              "\n",
              "<svg xmlns=\"http://www.w3.org/2000/svg\" height=\"24px\"viewBox=\"0 0 24 24\"\n",
              "     width=\"24px\">\n",
              "    <g>\n",
              "        <path d=\"M19 3H5c-1.1 0-2 .9-2 2v14c0 1.1.9 2 2 2h14c1.1 0 2-.9 2-2V5c0-1.1-.9-2-2-2zM9 17H7v-7h2v7zm4 0h-2V7h2v10zm4 0h-2v-4h2v4z\"/>\n",
              "    </g>\n",
              "</svg>\n",
              "  </button>\n",
              "\n",
              "<style>\n",
              "  .colab-df-quickchart {\n",
              "      --bg-color: #E8F0FE;\n",
              "      --fill-color: #1967D2;\n",
              "      --hover-bg-color: #E2EBFA;\n",
              "      --hover-fill-color: #174EA6;\n",
              "      --disabled-fill-color: #AAA;\n",
              "      --disabled-bg-color: #DDD;\n",
              "  }\n",
              "\n",
              "  [theme=dark] .colab-df-quickchart {\n",
              "      --bg-color: #3B4455;\n",
              "      --fill-color: #D2E3FC;\n",
              "      --hover-bg-color: #434B5C;\n",
              "      --hover-fill-color: #FFFFFF;\n",
              "      --disabled-bg-color: #3B4455;\n",
              "      --disabled-fill-color: #666;\n",
              "  }\n",
              "\n",
              "  .colab-df-quickchart {\n",
              "    background-color: var(--bg-color);\n",
              "    border: none;\n",
              "    border-radius: 50%;\n",
              "    cursor: pointer;\n",
              "    display: none;\n",
              "    fill: var(--fill-color);\n",
              "    height: 32px;\n",
              "    padding: 0;\n",
              "    width: 32px;\n",
              "  }\n",
              "\n",
              "  .colab-df-quickchart:hover {\n",
              "    background-color: var(--hover-bg-color);\n",
              "    box-shadow: 0 1px 2px rgba(60, 64, 67, 0.3), 0 1px 3px 1px rgba(60, 64, 67, 0.15);\n",
              "    fill: var(--button-hover-fill-color);\n",
              "  }\n",
              "\n",
              "  .colab-df-quickchart-complete:disabled,\n",
              "  .colab-df-quickchart-complete:disabled:hover {\n",
              "    background-color: var(--disabled-bg-color);\n",
              "    fill: var(--disabled-fill-color);\n",
              "    box-shadow: none;\n",
              "  }\n",
              "\n",
              "  .colab-df-spinner {\n",
              "    border: 2px solid var(--fill-color);\n",
              "    border-color: transparent;\n",
              "    border-bottom-color: var(--fill-color);\n",
              "    animation:\n",
              "      spin 1s steps(1) infinite;\n",
              "  }\n",
              "\n",
              "  @keyframes spin {\n",
              "    0% {\n",
              "      border-color: transparent;\n",
              "      border-bottom-color: var(--fill-color);\n",
              "      border-left-color: var(--fill-color);\n",
              "    }\n",
              "    20% {\n",
              "      border-color: transparent;\n",
              "      border-left-color: var(--fill-color);\n",
              "      border-top-color: var(--fill-color);\n",
              "    }\n",
              "    30% {\n",
              "      border-color: transparent;\n",
              "      border-left-color: var(--fill-color);\n",
              "      border-top-color: var(--fill-color);\n",
              "      border-right-color: var(--fill-color);\n",
              "    }\n",
              "    40% {\n",
              "      border-color: transparent;\n",
              "      border-right-color: var(--fill-color);\n",
              "      border-top-color: var(--fill-color);\n",
              "    }\n",
              "    60% {\n",
              "      border-color: transparent;\n",
              "      border-right-color: var(--fill-color);\n",
              "    }\n",
              "    80% {\n",
              "      border-color: transparent;\n",
              "      border-right-color: var(--fill-color);\n",
              "      border-bottom-color: var(--fill-color);\n",
              "    }\n",
              "    90% {\n",
              "      border-color: transparent;\n",
              "      border-bottom-color: var(--fill-color);\n",
              "    }\n",
              "  }\n",
              "</style>\n",
              "\n",
              "  <script>\n",
              "    async function quickchart(key) {\n",
              "      const quickchartButtonEl =\n",
              "        document.querySelector('#' + key + ' button');\n",
              "      quickchartButtonEl.disabled = true;  // To prevent multiple clicks.\n",
              "      quickchartButtonEl.classList.add('colab-df-spinner');\n",
              "      try {\n",
              "        const charts = await google.colab.kernel.invokeFunction(\n",
              "            'suggestCharts', [key], {});\n",
              "      } catch (error) {\n",
              "        console.error('Error during call to suggestCharts:', error);\n",
              "      }\n",
              "      quickchartButtonEl.classList.remove('colab-df-spinner');\n",
              "      quickchartButtonEl.classList.add('colab-df-quickchart-complete');\n",
              "    }\n",
              "    (() => {\n",
              "      let quickchartButtonEl =\n",
              "        document.querySelector('#df-0272bbcf-87cd-43b4-b567-82ef8c19436e button');\n",
              "      quickchartButtonEl.style.display =\n",
              "        google.colab.kernel.accessAllowed ? 'block' : 'none';\n",
              "    })();\n",
              "  </script>\n",
              "</div>\n",
              "\n",
              "  <div id=\"id_24a75404-a1f7-48f7-8a74-1bee52ff42ed\">\n",
              "    <style>\n",
              "      .colab-df-generate {\n",
              "        background-color: #E8F0FE;\n",
              "        border: none;\n",
              "        border-radius: 50%;\n",
              "        cursor: pointer;\n",
              "        display: none;\n",
              "        fill: #1967D2;\n",
              "        height: 32px;\n",
              "        padding: 0 0 0 0;\n",
              "        width: 32px;\n",
              "      }\n",
              "\n",
              "      .colab-df-generate:hover {\n",
              "        background-color: #E2EBFA;\n",
              "        box-shadow: 0px 1px 2px rgba(60, 64, 67, 0.3), 0px 1px 3px 1px rgba(60, 64, 67, 0.15);\n",
              "        fill: #174EA6;\n",
              "      }\n",
              "\n",
              "      [theme=dark] .colab-df-generate {\n",
              "        background-color: #3B4455;\n",
              "        fill: #D2E3FC;\n",
              "      }\n",
              "\n",
              "      [theme=dark] .colab-df-generate:hover {\n",
              "        background-color: #434B5C;\n",
              "        box-shadow: 0px 1px 3px 1px rgba(0, 0, 0, 0.15);\n",
              "        filter: drop-shadow(0px 1px 2px rgba(0, 0, 0, 0.3));\n",
              "        fill: #FFFFFF;\n",
              "      }\n",
              "    </style>\n",
              "    <button class=\"colab-df-generate\" onclick=\"generateWithVariable('df')\"\n",
              "            title=\"Generate code using this dataframe.\"\n",
              "            style=\"display:none;\">\n",
              "\n",
              "  <svg xmlns=\"http://www.w3.org/2000/svg\" height=\"24px\"viewBox=\"0 0 24 24\"\n",
              "       width=\"24px\">\n",
              "    <path d=\"M7,19H8.4L18.45,9,17,7.55,7,17.6ZM5,21V16.75L18.45,3.32a2,2,0,0,1,2.83,0l1.4,1.43a1.91,1.91,0,0,1,.58,1.4,1.91,1.91,0,0,1-.58,1.4L9.25,21ZM18.45,9,17,7.55Zm-12,3A5.31,5.31,0,0,0,4.9,8.1,5.31,5.31,0,0,0,1,6.5,5.31,5.31,0,0,0,4.9,4.9,5.31,5.31,0,0,0,6.5,1,5.31,5.31,0,0,0,8.1,4.9,5.31,5.31,0,0,0,12,6.5,5.46,5.46,0,0,0,6.5,12Z\"/>\n",
              "  </svg>\n",
              "    </button>\n",
              "    <script>\n",
              "      (() => {\n",
              "      const buttonEl =\n",
              "        document.querySelector('#id_24a75404-a1f7-48f7-8a74-1bee52ff42ed button.colab-df-generate');\n",
              "      buttonEl.style.display =\n",
              "        google.colab.kernel.accessAllowed ? 'block' : 'none';\n",
              "\n",
              "      buttonEl.onclick = () => {\n",
              "        google.colab.notebook.generateWithVariable('df');\n",
              "      }\n",
              "      })();\n",
              "    </script>\n",
              "  </div>\n",
              "\n",
              "    </div>\n",
              "  </div>\n"
            ],
            "application/vnd.google.colaboratory.intrinsic+json": {
              "type": "dataframe",
              "variable_name": "df",
              "summary": "{\n  \"name\": \"df\",\n  \"rows\": 792,\n  \"fields\": [\n    {\n      \"column\": \"id\",\n      \"properties\": {\n        \"dtype\": \"string\",\n        \"num_unique_values\": 792,\n        \"samples\": [\n          \"\\\"4697_7\\\"\",\n          \"\\\"7349_7\\\"\",\n          \"\\\"6434_7\\\"\"\n        ],\n        \"semantic_type\": \"\",\n        \"description\": \"\"\n      }\n    },\n    {\n      \"column\": \"sentiment\",\n      \"properties\": {\n        \"dtype\": \"number\",\n        \"std\": 0,\n        \"min\": 0,\n        \"max\": 1,\n        \"num_unique_values\": 2,\n        \"samples\": [\n          0,\n          1\n        ],\n        \"semantic_type\": \"\",\n        \"description\": \"\"\n      }\n    },\n    {\n      \"column\": \"review\",\n      \"properties\": {\n        \"dtype\": \"string\",\n        \"num_unique_values\": 792,\n        \"samples\": [\n          \"\\\"Michael Keaton is \\\\\\\"Johnny Dangerously\\\\\\\" in this take-off on gangster movies done in 1984. Maureen Stapleton plays his sickly mother, Griffin Dunne is his DA brother, Peter Boyle is his boss, and Marilu Henner is his girlfriend. Other stars include Danny DeVito and Joe Piscopo. Keaton plays a pet store owner in the 1930s who catches a kid stealing a puppy and then tells him, in flashback, how he came to own the pet store. He turned to thievery at a young age to get his mother a pancreas operation ($49.95, special this week) and began working for a mob boss (Boyle). Johnny uses the last name \\\\\\\"Dangerously\\\\\\\" in the mobster world.<br /><br />There are some hilarious scenes in this film, and Stapleton is a riot as Johnny's foul-mouthed mother who needs ever organ in her body replaced. Peter Boyle as Johnny's boss gives a very funny performance, as does Griffin Dunne, a straight arrow DA who won't \\\\\\\"play ball\\\\\\\" with crooked Burr (Danny De Vito). As Johnny's nemesis, Joe Piscopo is great. Richard Dimitri is a standout as Moronie, who tortures the English language - but you have to hear him do it rather than read about it. What makes it funny is that he does it all with an angry face.<br /><br />The movie gets a little tired toward the end, but it's well worth seeing, and Keaton is terrific as good boy/bad boy Johnny. For some reason, this film was underrated when it was released, and like Keaton's other gem, \\\\\\\"Night Shift,\\\\\\\" you don't hear much about it today. With some performances and scenes that are real gems, you'll find \\\\\\\"Johnny Dangerously\\\\\\\" immensely enjoyable.\\\"\",\n          \"\\\"Of course if you are reading my review you have seen this film already. 'Raja Babu' is one of my most favorite characters. I just love the concept of a spoiled brat with a 24*7 servant on his motorcycle. Watch movies and emulate characters etc etc. I love the scene when a stone cracks in Kader khans mouth while eating. Also where Shakti Kapoor narrates a corny story of Raja Babu's affairs on a dinner table and Govinda wearing 'dharam-veer' uniform makes sentimental remarks. Thats my favorite scene of the film. 'Achcha Pitaji To Main Chalta Hoon' scene is just chemistry between two great Indian actors doing a comical scene with no dialogs. Its brilliant. It's a cat mouse film. Just watch these actors helping each other and still taking away the scene from each other. Its total entertainment. If you like Govinda and Kader Khan chemistry then its a must. I think RB is 6th in my list by David Dhawan. 'Deewana Mastana', 'Ankhein','Shola or Shabnam', 'Swarg', Coolie no 1' precedes this gem of a film. 7/10.\\\"\"\n        ],\n        \"semantic_type\": \"\",\n        \"description\": \"\"\n      }\n    }\n  ]\n}"
            }
          },
          "metadata": {},
          "execution_count": 2
        }
      ],
      "source": [
        "df = pd.read_csv(\"NLPlabeledData.tsv\", delimiter = \"\\t\", quoting=3)\n",
        "\n",
        "df"
      ]
    },
    {
      "cell_type": "code",
      "execution_count": null,
      "metadata": {
        "colab": {
          "base_uri": "https://localhost:8080/"
        },
        "id": "SwhCdMlwR1I9",
        "outputId": "14a19174-36a5-4f6f-ddd2-bfdaa8604a74"
      },
      "outputs": [
        {
          "output_type": "execute_result",
          "data": {
            "text/plain": [
              "792"
            ]
          },
          "metadata": {},
          "execution_count": 4
        }
      ],
      "source": [
        "len(df)"
      ]
    },
    {
      "cell_type": "code",
      "execution_count": null,
      "metadata": {
        "id": "2Rez9lB0R4b8"
      },
      "outputs": [],
      "source": [
        "def process(review):\n",
        "  # review without HTML tags\n",
        "  review =BeautifulSoup(review).get_text()\n",
        "  # review without punctuation and numbers\n",
        "  review = re.sub(\"[^a-zA-Z]\" , ' ', review)\n",
        "  # converting into lowercase and splitting to eliminate stopwords\n",
        "  review = review.lower()\n",
        "  review = review.split()\n",
        "  # review without stopwords\n",
        "  swords = set(stopwords.words(\"english\"))\n",
        "  review = [ w for w in review if w not in swords]\n",
        "  # splitted paragraph'ları space ile birleştiriyoruz return\n",
        "  return(\" \".join(review))\n",
        "\n"
      ]
    },
    {
      "cell_type": "code",
      "execution_count": null,
      "metadata": {
        "id": "DD9irAavUhM1"
      },
      "outputs": [],
      "source": [
        "train_x_tum = []\n",
        "\n",
        "for r in range(len(df[\"review\"])):\n",
        "  if (r+1) %1000 == 0:\n",
        "    print(\"No of reviews processed = \", r+1)\n",
        "  train_x_tum.append(process(df[\"review\"][r]))\n"
      ]
    },
    {
      "cell_type": "code",
      "execution_count": null,
      "metadata": {
        "id": "PvUrYFgEZLYy"
      },
      "outputs": [],
      "source": [
        "x = train_x_tum\n",
        "y = np.array(df[\"sentiment\"])\n",
        "\n",
        "train_x, test_x, y_train, y_test = train_test_split(x,y, test_size = 0.1)\n",
        "\n",
        "\n",
        "# Bag of Words oluşturuyoruz !\n",
        "\n",
        "# Verilerimizi temizledik ancak yapay zekanın çalışması için bu metin tabanlı verileri sayılara ve bag of words denilen matrise çevirmek gerekiyor.\n",
        "# İşte bu amaçla sklearn içinde bulunan CountVectorizer aracını kullanıyoruz:\n",
        "\n",
        "\n",
        "# sklearn içindeki countvectorizer fonksiyonunu kullanarak max 5000 kelimelik bag of words oluştur...\n",
        "vectorizer = CountVectorizer( max_features = 5000 )\n",
        "\n",
        "# train verilerini feature vektör matrisine çevir\n",
        "train_x = vectorizer.fit_transform(train_x)\n",
        "train_y = y_train\n",
        "\n",
        "\n",
        "# array'e dönüştür, fit işlemi için array gerekli..\n",
        "train_x = train_x.toarray()\n"
      ]
    },
    {
      "cell_type": "code",
      "execution_count": null,
      "metadata": {
        "colab": {
          "base_uri": "https://localhost:8080/"
        },
        "id": "ZfqECdSic4pp",
        "outputId": "0ffed93f-2303-4c93-bb16-24a75a308e29"
      },
      "outputs": [
        {
          "data": {
            "text/plain": [
              "((22500, 5000), (22500,))"
            ]
          },
          "execution_count": 33,
          "metadata": {},
          "output_type": "execute_result"
        }
      ],
      "source": [
        "train_x.shape, train_y.shape"
      ]
    },
    {
      "cell_type": "code",
      "execution_count": null,
      "metadata": {
        "id": "DSzbE0S1aQAw"
      },
      "outputs": [],
      "source": [
        "# Random Forest Modeli oluşturuyoruz ve fit ediyoruz\n",
        "model = RandomForestClassifier(n_estimators = 100, random_state=42)\n",
        "model.fit(train_x, train_y)"
      ]
    },
    {
      "cell_type": "code",
      "execution_count": null,
      "metadata": {
        "id": "NlIdNnf2aNMq"
      },
      "outputs": [],
      "source": [
        "# Test verilerini feature vektöre matrisine çevir (test datası için bag of wordse dönüştürme)\n",
        "test_xx = vectorizer.transform(test_x)\n",
        "test_xx = test_xx.toarray()\n"
      ]
    },
    {
      "cell_type": "code",
      "execution_count": null,
      "metadata": {
        "colab": {
          "base_uri": "https://localhost:8080/"
        },
        "id": "8kr-EsCJapu2",
        "outputId": "07dc5bce-96a0-420a-9300-e2a2cdd654d5"
      },
      "outputs": [
        {
          "name": "stdout",
          "output_type": "stream",
          "text": [
            "Accuracy oranı : %  84.524761560564\n"
          ]
        }
      ],
      "source": [
        "## Prediction..\n",
        "\n",
        "test_predict = model.predict(test_xx)\n",
        "accuracy = roc_auc_score(y_test, test_predict)\n",
        "\n",
        "print(\"Accuracy oranı : % \", accuracy * 100)"
      ]
    },
    {
      "cell_type": "code",
      "execution_count": null,
      "metadata": {
        "colab": {
          "background_save": true,
          "base_uri": "https://localhost:8080/"
        },
        "id": "7BeR4MDrYiS9",
        "outputId": "3c012f86-da36-4db7-db57-fa66aed6e9c7"
      },
      "outputs": [
        {
          "name": "stderr",
          "output_type": "stream",
          "text": [
            "<ipython-input-24-8b3e7752a981>:2: MarkupResemblesLocatorWarning: The input looks more like a filename than markup. You may want to open this file and pass the filehandle into Beautiful Soup.\n",
            "  review = BeautifulSoup(review).get_text()\n"
          ]
        },
        {
          "name": "stdout",
          "output_type": "stream",
          "text": [
            "No reviews processed:  1000\n",
            "No reviews processed:  2000\n",
            "No reviews processed:  3000\n",
            "No reviews processed:  4000\n",
            "No reviews processed:  5000\n",
            "No reviews processed:  6000\n",
            "No reviews processed:  7000\n",
            "No reviews processed:  8000\n",
            "No reviews processed:  9000\n",
            "No reviews processed:  10000\n",
            "No reviews processed:  11000\n",
            "No reviews processed:  12000\n",
            "No reviews processed:  13000\n",
            "No reviews processed:  14000\n",
            "No reviews processed:  15000\n",
            "No reviews processed:  16000\n",
            "No reviews processed:  17000\n",
            "No reviews processed:  18000\n",
            "No reviews processed:  19000\n",
            "No reviews processed:  20000\n",
            "No reviews processed:  21000\n",
            "No reviews processed:  22000\n",
            "No reviews processed:  23000\n",
            "No reviews processed:  24000\n",
            "No reviews processed:  25000\n"
          ]
        }
      ],
      "source": [
        "train_x_tum = []\n",
        "for r  in range (len(df[\"review\"])):\n",
        "  if (r+1)%1000 == 0:\n",
        "    print (\"No reviews processed: \" , r+1)\n",
        "  train_x_tum.append(process(df[\"review\"][r]))\n",
        "\n",
        "\n",
        "x = train_x_tum\n",
        "y = np.array(df[\"sentiment\"])\n",
        "\n",
        "train_x, test_x, train_y, test_y = train_test_split(x,y,test_size = 0.1, random_state = 42)\n",
        "\n",
        "# Bag of Words oluştur\n",
        "vectorizer = CountVectorizer (max_features = 5000)\n",
        "\n",
        "train_x = vectorizer.fit_transform(train_x)\n",
        "train_x = train_x.toarray()\n",
        "\n",
        "model = RandomForestClassifier ( n_estimators = 100 ,random_state = 42) #100 ayrı karar ağacı,  ağaç sy arttıkça performans ve kararlılık artar, ancak hesaplama maliyetini de artar\n",
        "model.fit(train_x, train_y)\n",
        "\n",
        "test_xx = vectorizer.transform(test_x)\n",
        "test_xx = test_xx.toarray ()\n",
        "\n",
        "test_predict = model.predict (test_xx)\n",
        "accuracy = roc_auc_score (test_y, test_predict)\n",
        "\n"
      ]
    },
    {
      "cell_type": "code",
      "execution_count": null,
      "metadata": {
        "colab": {
          "background_save": true
        },
        "id": "PGGQYbRUt_Rg",
        "outputId": "2afa4d72-d931-4c75-ac6c-8e32c19b82ce"
      },
      "outputs": [
        {
          "name": "stdout",
          "output_type": "stream",
          "text": [
            "Accuracy: % 84.12705119537827\n"
          ]
        }
      ],
      "source": [
        "print (\"Accuracy: %\" , accuracy *100 )"
      ]
    },
    {
      "cell_type": "code",
      "source": [],
      "metadata": {
        "id": "lAi3guwminkK"
      },
      "execution_count": null,
      "outputs": []
    },
    {
      "cell_type": "code",
      "source": [],
      "metadata": {
        "id": "ay4gxU87innJ"
      },
      "execution_count": null,
      "outputs": []
    },
    {
      "cell_type": "code",
      "source": [],
      "metadata": {
        "id": "zX0XdEFKinrM"
      },
      "execution_count": null,
      "outputs": []
    },
    {
      "cell_type": "code",
      "source": [],
      "metadata": {
        "id": "NZBWHPwIinuT"
      },
      "execution_count": null,
      "outputs": []
    },
    {
      "cell_type": "code",
      "source": [],
      "metadata": {
        "id": "zaySgHmZin1M"
      },
      "execution_count": null,
      "outputs": []
    },
    {
      "cell_type": "code",
      "source": [],
      "metadata": {
        "id": "3kTjhDoqin8O"
      },
      "execution_count": null,
      "outputs": []
    },
    {
      "cell_type": "code",
      "source": [],
      "metadata": {
        "id": "f95VZd4Pin_2"
      },
      "execution_count": null,
      "outputs": []
    }
  ],
  "metadata": {
    "colab": {
      "provenance": [],
      "authorship_tag": "ABX9TyOLHen52M+N8ta0L9Xs0UjT",
      "include_colab_link": true
    },
    "kernelspec": {
      "display_name": "Python 3",
      "name": "python3"
    },
    "language_info": {
      "name": "python"
    }
  },
  "nbformat": 4,
  "nbformat_minor": 0
}